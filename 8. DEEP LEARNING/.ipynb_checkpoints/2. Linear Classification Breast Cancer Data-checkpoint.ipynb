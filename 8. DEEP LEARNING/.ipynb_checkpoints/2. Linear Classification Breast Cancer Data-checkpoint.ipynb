{
 "cells": [
  {
   "cell_type": "markdown",
   "metadata": {},
   "source": [
    "<h1 align=\"center\">Linear Classification - Tensorflow model</h1>\n",
    "<h2 align=\"center\">Breast Cancer Data</h2>\n",
    "<h3 align=\"center\">Rositsa Chankova</h3>"
   ]
  },
  {
   "cell_type": "markdown",
   "metadata": {},
   "source": [
    "**A linear classifier has a target of statistical classification to identify which output class an input set belongs to. By using values of linear combinations and making a classification decision, a linear classifier achieves its end goal. Examples of linear classifier include , Logistic Regression , NB classification etc.**"
   ]
  },
  {
   "cell_type": "markdown",
   "metadata": {},
   "source": [
    "### Types of linear classifiers:\n",
    "* A : Generative ( assumes conditional density functions ) : \n",
    "* A1 : Linear Discriminant Analysis (LDA)—assumes Gaussian conditional density models\n",
    "* A2 : Naive Bayes classifier with multinomial or multivariate Bernoulli models.\n",
    "* B : Discriminative models - attempts to maximise the quality of the output on a training set\n",
    "* B1  : Logistic regression\n",
    "* B1  : Perceptrons\n",
    "* B1  : Support Vector Machines(SVM)"
   ]
  },
  {
   "cell_type": "markdown",
   "metadata": {},
   "source": [
    "## 1. Imports of libraries"
   ]
  },
  {
   "cell_type": "code",
   "execution_count": 1,
   "metadata": {
    "colab": {
     "base_uri": "https://localhost:8080/",
     "height": 119
    },
    "id": "DeNaBVyT4pn1",
    "outputId": "a9fb464c-b779-4f7c-df54-63bbc35e4661",
    "scrolled": true
   },
   "outputs": [
    {
     "name": "stderr",
     "output_type": "stream",
     "text": [
      "2023-01-28 18:06:04.529719: I tensorflow/core/platform/cpu_feature_guard.cc:193] This TensorFlow binary is optimized with oneAPI Deep Neural Network Library (oneDNN) to use the following CPU instructions in performance-critical operations:  AVX2 FMA\n",
      "To enable them in other operations, rebuild TensorFlow with the appropriate compiler flags.\n"
     ]
    },
    {
     "name": "stdout",
     "output_type": "stream",
     "text": [
      "2.10.0\n"
     ]
    }
   ],
   "source": [
    "import tensorflow as tf\n",
    "print(tf.__version__)\n",
    "import matplotlib.pyplot as plt\n",
    "import numpy as np"
   ]
  },
  {
   "cell_type": "markdown",
   "metadata": {},
   "source": [
    "## 2. Get the Data"
   ]
  },
  {
   "cell_type": "code",
   "execution_count": 2,
   "metadata": {
    "id": "EtMPQxpC4xD0"
   },
   "outputs": [],
   "source": [
    "from sklearn.datasets import load_breast_cancer\n",
    "data = load_breast_cancer()"
   ]
  },
  {
   "cell_type": "code",
   "execution_count": 3,
   "metadata": {
    "colab": {
     "base_uri": "https://localhost:8080/",
     "height": 34
    },
    "id": "wNkavJSj5EcV",
    "outputId": "81560b8c-1027-4c3e-c9a0-a0979e0b61c8"
   },
   "outputs": [
    {
     "data": {
      "text/plain": [
       "sklearn.utils.Bunch"
      ]
     },
     "execution_count": 3,
     "metadata": {},
     "output_type": "execute_result"
    }
   ],
   "source": [
    "type(data)"
   ]
  },
  {
   "cell_type": "markdown",
   "metadata": {},
   "source": [
    "It is a Bunch object which acts like a dictionary where keys can be treat like attributes."
   ]
  },
  {
   "cell_type": "code",
   "execution_count": 4,
   "metadata": {
    "colab": {
     "base_uri": "https://localhost:8080/",
     "height": 34
    },
    "id": "OsWYmnYR5GQq",
    "outputId": "8d7a59a0-c3b3-474f-8a9b-f0e9a2836eff"
   },
   "outputs": [
    {
     "data": {
      "text/plain": [
       "dict_keys(['data', 'target', 'frame', 'target_names', 'DESCR', 'feature_names', 'filename', 'data_module'])"
      ]
     },
     "execution_count": 4,
     "metadata": {},
     "output_type": "execute_result"
    }
   ],
   "source": [
    "data.keys()"
   ]
  },
  {
   "cell_type": "markdown",
   "metadata": {},
   "source": [
    "### 'data' (the attribute) means the input data"
   ]
  },
  {
   "cell_type": "code",
   "execution_count": 5,
   "metadata": {
    "colab": {
     "base_uri": "https://localhost:8080/",
     "height": 34
    },
    "id": "HRYJw4hN5JXD",
    "outputId": "823efc87-d4e7-4a02-a552-d4848a0cbe2e"
   },
   "outputs": [
    {
     "data": {
      "text/plain": [
       "(569, 30)"
      ]
     },
     "execution_count": 5,
     "metadata": {},
     "output_type": "execute_result"
    }
   ],
   "source": [
    "data.data.shape"
   ]
  },
  {
   "cell_type": "markdown",
   "metadata": {},
   "source": [
    "### 569 samples, 30 features"
   ]
  },
  {
   "cell_type": "code",
   "execution_count": 6,
   "metadata": {
    "colab": {
     "base_uri": "https://localhost:8080/",
     "height": 459
    },
    "id": "G5OVVVge5L-h",
    "outputId": "ed75fd87-2ed9-4a70-99fe-fd18a702e703"
   },
   "outputs": [
    {
     "data": {
      "text/plain": [
       "array([0, 0, 0, 0, 0, 0, 0, 0, 0, 0, 0, 0, 0, 0, 0, 0, 0, 0, 0, 1, 1, 1,\n",
       "       0, 0, 0, 0, 0, 0, 0, 0, 0, 0, 0, 0, 0, 0, 0, 1, 0, 0, 0, 0, 0, 0,\n",
       "       0, 0, 1, 0, 1, 1, 1, 1, 1, 0, 0, 1, 0, 0, 1, 1, 1, 1, 0, 1, 0, 0,\n",
       "       1, 1, 1, 1, 0, 1, 0, 0, 1, 0, 1, 0, 0, 1, 1, 1, 0, 0, 1, 0, 0, 0,\n",
       "       1, 1, 1, 0, 1, 1, 0, 0, 1, 1, 1, 0, 0, 1, 1, 1, 1, 0, 1, 1, 0, 1,\n",
       "       1, 1, 1, 1, 1, 1, 1, 0, 0, 0, 1, 0, 0, 1, 1, 1, 0, 0, 1, 0, 1, 0,\n",
       "       0, 1, 0, 0, 1, 1, 0, 1, 1, 0, 1, 1, 1, 1, 0, 1, 1, 1, 1, 1, 1, 1,\n",
       "       1, 1, 0, 1, 1, 1, 1, 0, 0, 1, 0, 1, 1, 0, 0, 1, 1, 0, 0, 1, 1, 1,\n",
       "       1, 0, 1, 1, 0, 0, 0, 1, 0, 1, 0, 1, 1, 1, 0, 1, 1, 0, 0, 1, 0, 0,\n",
       "       0, 0, 1, 0, 0, 0, 1, 0, 1, 0, 1, 1, 0, 1, 0, 0, 0, 0, 1, 1, 0, 0,\n",
       "       1, 1, 1, 0, 1, 1, 1, 1, 1, 0, 0, 1, 1, 0, 1, 1, 0, 0, 1, 0, 1, 1,\n",
       "       1, 1, 0, 1, 1, 1, 1, 1, 0, 1, 0, 0, 0, 0, 0, 0, 0, 0, 0, 0, 0, 0,\n",
       "       0, 0, 1, 1, 1, 1, 1, 1, 0, 1, 0, 1, 1, 0, 1, 1, 0, 1, 0, 0, 1, 1,\n",
       "       1, 1, 1, 1, 1, 1, 1, 1, 1, 1, 1, 0, 1, 1, 0, 1, 0, 1, 1, 1, 1, 1,\n",
       "       1, 1, 1, 1, 1, 1, 1, 1, 1, 0, 1, 1, 1, 0, 1, 0, 1, 1, 1, 1, 0, 0,\n",
       "       0, 1, 1, 1, 1, 0, 1, 0, 1, 0, 1, 1, 1, 0, 1, 1, 1, 1, 1, 1, 1, 0,\n",
       "       0, 0, 1, 1, 1, 1, 1, 1, 1, 1, 1, 1, 1, 0, 0, 1, 0, 0, 0, 1, 0, 0,\n",
       "       1, 1, 1, 1, 1, 0, 1, 1, 1, 1, 1, 0, 1, 1, 1, 0, 1, 1, 0, 0, 1, 1,\n",
       "       1, 1, 1, 1, 0, 1, 1, 1, 1, 1, 1, 1, 0, 1, 1, 1, 1, 1, 0, 1, 1, 0,\n",
       "       1, 1, 1, 1, 1, 1, 1, 1, 1, 1, 1, 1, 0, 1, 0, 0, 1, 0, 1, 1, 1, 1,\n",
       "       1, 0, 1, 1, 0, 1, 0, 1, 1, 0, 1, 0, 1, 1, 1, 1, 1, 1, 1, 1, 0, 0,\n",
       "       1, 1, 1, 1, 1, 1, 0, 1, 1, 1, 1, 1, 1, 1, 1, 1, 1, 0, 1, 1, 1, 1,\n",
       "       1, 1, 1, 0, 1, 0, 1, 1, 0, 1, 1, 1, 1, 1, 0, 0, 1, 0, 1, 0, 1, 1,\n",
       "       1, 1, 1, 0, 1, 1, 0, 1, 0, 1, 0, 0, 1, 1, 1, 0, 1, 1, 1, 1, 1, 1,\n",
       "       1, 1, 1, 1, 1, 0, 1, 0, 0, 1, 1, 1, 1, 1, 1, 1, 1, 1, 1, 1, 1, 1,\n",
       "       1, 1, 1, 1, 1, 1, 1, 1, 1, 1, 1, 1, 0, 0, 0, 0, 0, 0, 1])"
      ]
     },
     "execution_count": 6,
     "metadata": {},
     "output_type": "execute_result"
    }
   ],
   "source": [
    "data.target"
   ]
  },
  {
   "cell_type": "markdown",
   "metadata": {},
   "source": [
    "### The targets are just 0s and 1s. Normally, when you have K targets, they are labeled 0..K-1"
   ]
  },
  {
   "cell_type": "code",
   "execution_count": 7,
   "metadata": {
    "colab": {
     "base_uri": "https://localhost:8080/",
     "height": 34
    },
    "id": "YFXPFIiB5Osq",
    "outputId": "18f16aab-6f97-4731-e644-3ec3c0a19375"
   },
   "outputs": [
    {
     "data": {
      "text/plain": [
       "array(['malignant', 'benign'], dtype='<U9')"
      ]
     },
     "execution_count": 7,
     "metadata": {},
     "output_type": "execute_result"
    }
   ],
   "source": [
    "data.target_names"
   ]
  },
  {
   "cell_type": "code",
   "execution_count": 8,
   "metadata": {
    "colab": {
     "base_uri": "https://localhost:8080/",
     "height": 34
    },
    "id": "hujO3u7j5Qm-",
    "outputId": "af17b69f-b1d0-4996-9712-4034794d22f7"
   },
   "outputs": [
    {
     "data": {
      "text/plain": [
       "(569,)"
      ]
     },
     "execution_count": 8,
     "metadata": {},
     "output_type": "execute_result"
    }
   ],
   "source": [
    "data.target.shape"
   ]
  },
  {
   "cell_type": "markdown",
   "metadata": {},
   "source": [
    "## Determine the meaning of each feature"
   ]
  },
  {
   "cell_type": "code",
   "execution_count": 9,
   "metadata": {
    "colab": {
     "base_uri": "https://localhost:8080/",
     "height": 187
    },
    "id": "q3o3h2l95SJ0",
    "outputId": "4fb3c9e3-6e01-43d4-8f72-2b0dba9dbcb0"
   },
   "outputs": [
    {
     "data": {
      "text/plain": [
       "array(['mean radius', 'mean texture', 'mean perimeter', 'mean area',\n",
       "       'mean smoothness', 'mean compactness', 'mean concavity',\n",
       "       'mean concave points', 'mean symmetry', 'mean fractal dimension',\n",
       "       'radius error', 'texture error', 'perimeter error', 'area error',\n",
       "       'smoothness error', 'compactness error', 'concavity error',\n",
       "       'concave points error', 'symmetry error',\n",
       "       'fractal dimension error', 'worst radius', 'worst texture',\n",
       "       'worst perimeter', 'worst area', 'worst smoothness',\n",
       "       'worst compactness', 'worst concavity', 'worst concave points',\n",
       "       'worst symmetry', 'worst fractal dimension'], dtype='<U23')"
      ]
     },
     "execution_count": 9,
     "metadata": {},
     "output_type": "execute_result"
    }
   ],
   "source": [
    "data.feature_names"
   ]
  },
  {
   "cell_type": "code",
   "execution_count": 10,
   "metadata": {
    "id": "__iUSucB5Tug"
   },
   "outputs": [],
   "source": [
    "from sklearn.model_selection import train_test_split\n",
    "X_train, X_test, y_train, y_test = train_test_split(data.data, data.target, test_size=0.33)\n",
    "N, D = X_train.shape"
   ]
  },
  {
   "cell_type": "markdown",
   "metadata": {},
   "source": [
    "## Scale the data"
   ]
  },
  {
   "cell_type": "code",
   "execution_count": 11,
   "metadata": {
    "id": "fS7cFmYl73H3"
   },
   "outputs": [],
   "source": [
    "from sklearn.preprocessing import StandardScaler\n",
    "\n",
    "scaler = StandardScaler()\n",
    "X_train = scaler.fit_transform(X_train)\n",
    "X_test = scaler.transform(X_test)"
   ]
  },
  {
   "cell_type": "markdown",
   "metadata": {},
   "source": [
    "# Build the model with Tensorflow"
   ]
  },
  {
   "cell_type": "code",
   "execution_count": 12,
   "metadata": {
    "colab": {
     "base_uri": "https://localhost:8080/",
     "height": 1000
    },
    "id": "y-llhgXY5bmX",
    "outputId": "611273af-0aaa-4e01-d196-9e098847b1c2"
   },
   "outputs": [
    {
     "name": "stderr",
     "output_type": "stream",
     "text": [
      "2023-01-28 18:06:22.046629: I tensorflow/core/platform/cpu_feature_guard.cc:193] This TensorFlow binary is optimized with oneAPI Deep Neural Network Library (oneDNN) to use the following CPU instructions in performance-critical operations:  AVX2 FMA\n",
      "To enable them in other operations, rebuild TensorFlow with the appropriate compiler flags.\n"
     ]
    }
   ],
   "source": [
    "model = tf.keras.models.Sequential([\n",
    "  tf.keras.layers.Input(shape=(D,)),\n",
    "  tf.keras.layers.Dense(1, activation='sigmoid')\n",
    "])\n",
    "\n",
    "model.compile(optimizer='adam',\n",
    "              loss='binary_crossentropy',\n",
    "              metrics=['accuracy'])\n"
   ]
  },
  {
   "cell_type": "markdown",
   "metadata": {},
   "source": [
    "## Train the model"
   ]
  },
  {
   "cell_type": "code",
   "execution_count": 13,
   "metadata": {},
   "outputs": [
    {
     "name": "stdout",
     "output_type": "stream",
     "text": [
      "Epoch 1/100\n",
      "12/12 [==============================] - 0s 13ms/step - loss: 0.4106 - accuracy: 0.8189 - val_loss: 0.3535 - val_accuracy: 0.8723\n",
      "Epoch 2/100\n",
      "12/12 [==============================] - 0s 2ms/step - loss: 0.3759 - accuracy: 0.8373 - val_loss: 0.3278 - val_accuracy: 0.8989\n",
      "Epoch 3/100\n",
      "12/12 [==============================] - 0s 3ms/step - loss: 0.3445 - accuracy: 0.8609 - val_loss: 0.3068 - val_accuracy: 0.9149\n",
      "Epoch 4/100\n",
      "12/12 [==============================] - 0s 3ms/step - loss: 0.3201 - accuracy: 0.8740 - val_loss: 0.2892 - val_accuracy: 0.9202\n",
      "Epoch 5/100\n",
      "12/12 [==============================] - 0s 3ms/step - loss: 0.2981 - accuracy: 0.8976 - val_loss: 0.2746 - val_accuracy: 0.9149\n",
      "Epoch 6/100\n",
      "12/12 [==============================] - 0s 3ms/step - loss: 0.2804 - accuracy: 0.9029 - val_loss: 0.2618 - val_accuracy: 0.9149\n",
      "Epoch 7/100\n",
      "12/12 [==============================] - 0s 3ms/step - loss: 0.2649 - accuracy: 0.9239 - val_loss: 0.2505 - val_accuracy: 0.9202\n",
      "Epoch 8/100\n",
      "12/12 [==============================] - 0s 3ms/step - loss: 0.2518 - accuracy: 0.9291 - val_loss: 0.2406 - val_accuracy: 0.9255\n",
      "Epoch 9/100\n",
      "12/12 [==============================] - 0s 3ms/step - loss: 0.2399 - accuracy: 0.9318 - val_loss: 0.2319 - val_accuracy: 0.9255\n",
      "Epoch 10/100\n",
      "12/12 [==============================] - 0s 3ms/step - loss: 0.2296 - accuracy: 0.9396 - val_loss: 0.2238 - val_accuracy: 0.9202\n",
      "Epoch 11/100\n",
      "12/12 [==============================] - 0s 3ms/step - loss: 0.2203 - accuracy: 0.9423 - val_loss: 0.2164 - val_accuracy: 0.9202\n",
      "Epoch 12/100\n",
      "12/12 [==============================] - 0s 3ms/step - loss: 0.2120 - accuracy: 0.9501 - val_loss: 0.2100 - val_accuracy: 0.9255\n",
      "Epoch 13/100\n",
      "12/12 [==============================] - 0s 3ms/step - loss: 0.2045 - accuracy: 0.9501 - val_loss: 0.2036 - val_accuracy: 0.9255\n",
      "Epoch 14/100\n",
      "12/12 [==============================] - 0s 3ms/step - loss: 0.1974 - accuracy: 0.9501 - val_loss: 0.1983 - val_accuracy: 0.9309\n",
      "Epoch 15/100\n",
      "12/12 [==============================] - 0s 3ms/step - loss: 0.1912 - accuracy: 0.9501 - val_loss: 0.1932 - val_accuracy: 0.9309\n",
      "Epoch 16/100\n",
      "12/12 [==============================] - 0s 3ms/step - loss: 0.1854 - accuracy: 0.9528 - val_loss: 0.1883 - val_accuracy: 0.9362\n",
      "Epoch 17/100\n",
      "12/12 [==============================] - 0s 3ms/step - loss: 0.1800 - accuracy: 0.9554 - val_loss: 0.1841 - val_accuracy: 0.9362\n",
      "Epoch 18/100\n",
      "12/12 [==============================] - 0s 3ms/step - loss: 0.1751 - accuracy: 0.9554 - val_loss: 0.1800 - val_accuracy: 0.9362\n",
      "Epoch 19/100\n",
      "12/12 [==============================] - 0s 3ms/step - loss: 0.1704 - accuracy: 0.9580 - val_loss: 0.1761 - val_accuracy: 0.9362\n",
      "Epoch 20/100\n",
      "12/12 [==============================] - 0s 3ms/step - loss: 0.1661 - accuracy: 0.9606 - val_loss: 0.1724 - val_accuracy: 0.9362\n",
      "Epoch 21/100\n",
      "12/12 [==============================] - 0s 3ms/step - loss: 0.1621 - accuracy: 0.9606 - val_loss: 0.1693 - val_accuracy: 0.9468\n",
      "Epoch 22/100\n",
      "12/12 [==============================] - 0s 3ms/step - loss: 0.1583 - accuracy: 0.9606 - val_loss: 0.1662 - val_accuracy: 0.9521\n",
      "Epoch 23/100\n",
      "12/12 [==============================] - 0s 3ms/step - loss: 0.1548 - accuracy: 0.9606 - val_loss: 0.1633 - val_accuracy: 0.9521\n",
      "Epoch 24/100\n",
      "12/12 [==============================] - 0s 3ms/step - loss: 0.1514 - accuracy: 0.9606 - val_loss: 0.1605 - val_accuracy: 0.9574\n",
      "Epoch 25/100\n",
      "12/12 [==============================] - 0s 3ms/step - loss: 0.1483 - accuracy: 0.9606 - val_loss: 0.1582 - val_accuracy: 0.9574\n",
      "Epoch 26/100\n",
      "12/12 [==============================] - 0s 3ms/step - loss: 0.1453 - accuracy: 0.9606 - val_loss: 0.1556 - val_accuracy: 0.9628\n",
      "Epoch 27/100\n",
      "12/12 [==============================] - 0s 3ms/step - loss: 0.1424 - accuracy: 0.9580 - val_loss: 0.1534 - val_accuracy: 0.9628\n",
      "Epoch 28/100\n",
      "12/12 [==============================] - 0s 3ms/step - loss: 0.1397 - accuracy: 0.9606 - val_loss: 0.1515 - val_accuracy: 0.9628\n",
      "Epoch 29/100\n",
      "12/12 [==============================] - 0s 3ms/step - loss: 0.1372 - accuracy: 0.9606 - val_loss: 0.1495 - val_accuracy: 0.9628\n",
      "Epoch 30/100\n",
      "12/12 [==============================] - 0s 3ms/step - loss: 0.1348 - accuracy: 0.9606 - val_loss: 0.1474 - val_accuracy: 0.9628\n",
      "Epoch 31/100\n",
      "12/12 [==============================] - 0s 3ms/step - loss: 0.1324 - accuracy: 0.9606 - val_loss: 0.1458 - val_accuracy: 0.9628\n",
      "Epoch 32/100\n",
      "12/12 [==============================] - 0s 3ms/step - loss: 0.1301 - accuracy: 0.9606 - val_loss: 0.1441 - val_accuracy: 0.9628\n",
      "Epoch 33/100\n",
      "12/12 [==============================] - 0s 3ms/step - loss: 0.1280 - accuracy: 0.9606 - val_loss: 0.1425 - val_accuracy: 0.9628\n",
      "Epoch 34/100\n",
      "12/12 [==============================] - 0s 3ms/step - loss: 0.1260 - accuracy: 0.9606 - val_loss: 0.1411 - val_accuracy: 0.9628\n",
      "Epoch 35/100\n",
      "12/12 [==============================] - 0s 3ms/step - loss: 0.1241 - accuracy: 0.9606 - val_loss: 0.1397 - val_accuracy: 0.9628\n",
      "Epoch 36/100\n",
      "12/12 [==============================] - 0s 3ms/step - loss: 0.1222 - accuracy: 0.9606 - val_loss: 0.1384 - val_accuracy: 0.9628\n",
      "Epoch 37/100\n",
      "12/12 [==============================] - 0s 3ms/step - loss: 0.1204 - accuracy: 0.9606 - val_loss: 0.1371 - val_accuracy: 0.9628\n",
      "Epoch 38/100\n",
      "12/12 [==============================] - 0s 3ms/step - loss: 0.1187 - accuracy: 0.9606 - val_loss: 0.1358 - val_accuracy: 0.9628\n",
      "Epoch 39/100\n",
      "12/12 [==============================] - 0s 2ms/step - loss: 0.1171 - accuracy: 0.9606 - val_loss: 0.1345 - val_accuracy: 0.9628\n",
      "Epoch 40/100\n",
      "12/12 [==============================] - 0s 3ms/step - loss: 0.1154 - accuracy: 0.9606 - val_loss: 0.1335 - val_accuracy: 0.9628\n",
      "Epoch 41/100\n",
      "12/12 [==============================] - 0s 2ms/step - loss: 0.1139 - accuracy: 0.9633 - val_loss: 0.1325 - val_accuracy: 0.9628\n",
      "Epoch 42/100\n",
      "12/12 [==============================] - 0s 2ms/step - loss: 0.1124 - accuracy: 0.9633 - val_loss: 0.1315 - val_accuracy: 0.9628\n",
      "Epoch 43/100\n",
      "12/12 [==============================] - 0s 3ms/step - loss: 0.1110 - accuracy: 0.9633 - val_loss: 0.1306 - val_accuracy: 0.9628\n",
      "Epoch 44/100\n",
      "12/12 [==============================] - 0s 3ms/step - loss: 0.1096 - accuracy: 0.9633 - val_loss: 0.1296 - val_accuracy: 0.9628\n",
      "Epoch 45/100\n",
      "12/12 [==============================] - 0s 3ms/step - loss: 0.1082 - accuracy: 0.9659 - val_loss: 0.1287 - val_accuracy: 0.9628\n",
      "Epoch 46/100\n",
      "12/12 [==============================] - 0s 3ms/step - loss: 0.1069 - accuracy: 0.9659 - val_loss: 0.1279 - val_accuracy: 0.9628\n",
      "Epoch 47/100\n",
      "12/12 [==============================] - 0s 3ms/step - loss: 0.1056 - accuracy: 0.9659 - val_loss: 0.1271 - val_accuracy: 0.9628\n",
      "Epoch 48/100\n",
      "12/12 [==============================] - 0s 3ms/step - loss: 0.1044 - accuracy: 0.9659 - val_loss: 0.1264 - val_accuracy: 0.9628\n",
      "Epoch 49/100\n",
      "12/12 [==============================] - 0s 3ms/step - loss: 0.1033 - accuracy: 0.9659 - val_loss: 0.1257 - val_accuracy: 0.9628\n",
      "Epoch 50/100\n",
      "12/12 [==============================] - 0s 3ms/step - loss: 0.1022 - accuracy: 0.9659 - val_loss: 0.1249 - val_accuracy: 0.9628\n",
      "Epoch 51/100\n",
      "12/12 [==============================] - 0s 3ms/step - loss: 0.1010 - accuracy: 0.9659 - val_loss: 0.1243 - val_accuracy: 0.9628\n",
      "Epoch 52/100\n",
      "12/12 [==============================] - 0s 3ms/step - loss: 0.0999 - accuracy: 0.9685 - val_loss: 0.1237 - val_accuracy: 0.9628\n",
      "Epoch 53/100\n",
      "12/12 [==============================] - 0s 2ms/step - loss: 0.0989 - accuracy: 0.9685 - val_loss: 0.1231 - val_accuracy: 0.9628\n",
      "Epoch 54/100\n",
      "12/12 [==============================] - 0s 2ms/step - loss: 0.0979 - accuracy: 0.9685 - val_loss: 0.1224 - val_accuracy: 0.9628\n",
      "Epoch 55/100\n",
      "12/12 [==============================] - 0s 2ms/step - loss: 0.0969 - accuracy: 0.9685 - val_loss: 0.1219 - val_accuracy: 0.9628\n",
      "Epoch 56/100\n",
      "12/12 [==============================] - 0s 2ms/step - loss: 0.0959 - accuracy: 0.9685 - val_loss: 0.1214 - val_accuracy: 0.9628\n",
      "Epoch 57/100\n",
      "12/12 [==============================] - 0s 2ms/step - loss: 0.0949 - accuracy: 0.9685 - val_loss: 0.1208 - val_accuracy: 0.9628\n",
      "Epoch 58/100\n",
      "12/12 [==============================] - 0s 3ms/step - loss: 0.0940 - accuracy: 0.9685 - val_loss: 0.1202 - val_accuracy: 0.9628\n"
     ]
    },
    {
     "name": "stdout",
     "output_type": "stream",
     "text": [
      "Epoch 59/100\n",
      "12/12 [==============================] - 0s 3ms/step - loss: 0.0931 - accuracy: 0.9685 - val_loss: 0.1198 - val_accuracy: 0.9628\n",
      "Epoch 60/100\n",
      "12/12 [==============================] - 0s 3ms/step - loss: 0.0923 - accuracy: 0.9685 - val_loss: 0.1193 - val_accuracy: 0.9628\n",
      "Epoch 61/100\n",
      "12/12 [==============================] - 0s 3ms/step - loss: 0.0914 - accuracy: 0.9685 - val_loss: 0.1188 - val_accuracy: 0.9628\n",
      "Epoch 62/100\n",
      "12/12 [==============================] - 0s 3ms/step - loss: 0.0906 - accuracy: 0.9685 - val_loss: 0.1184 - val_accuracy: 0.9628\n",
      "Epoch 63/100\n",
      "12/12 [==============================] - 0s 3ms/step - loss: 0.0898 - accuracy: 0.9711 - val_loss: 0.1179 - val_accuracy: 0.9628\n",
      "Epoch 64/100\n",
      "12/12 [==============================] - 0s 3ms/step - loss: 0.0890 - accuracy: 0.9738 - val_loss: 0.1175 - val_accuracy: 0.9628\n",
      "Epoch 65/100\n",
      "12/12 [==============================] - 0s 3ms/step - loss: 0.0882 - accuracy: 0.9738 - val_loss: 0.1171 - val_accuracy: 0.9628\n",
      "Epoch 66/100\n",
      "12/12 [==============================] - 0s 3ms/step - loss: 0.0875 - accuracy: 0.9738 - val_loss: 0.1166 - val_accuracy: 0.9628\n",
      "Epoch 67/100\n",
      "12/12 [==============================] - 0s 3ms/step - loss: 0.0867 - accuracy: 0.9738 - val_loss: 0.1163 - val_accuracy: 0.9628\n",
      "Epoch 68/100\n",
      "12/12 [==============================] - 0s 3ms/step - loss: 0.0860 - accuracy: 0.9738 - val_loss: 0.1160 - val_accuracy: 0.9628\n",
      "Epoch 69/100\n",
      "12/12 [==============================] - 0s 3ms/step - loss: 0.0853 - accuracy: 0.9738 - val_loss: 0.1157 - val_accuracy: 0.9628\n",
      "Epoch 70/100\n",
      "12/12 [==============================] - 0s 3ms/step - loss: 0.0846 - accuracy: 0.9764 - val_loss: 0.1154 - val_accuracy: 0.9628\n",
      "Epoch 71/100\n",
      "12/12 [==============================] - 0s 3ms/step - loss: 0.0840 - accuracy: 0.9764 - val_loss: 0.1151 - val_accuracy: 0.9628\n",
      "Epoch 72/100\n",
      "12/12 [==============================] - 0s 3ms/step - loss: 0.0833 - accuracy: 0.9764 - val_loss: 0.1147 - val_accuracy: 0.9628\n",
      "Epoch 73/100\n",
      "12/12 [==============================] - 0s 3ms/step - loss: 0.0827 - accuracy: 0.9790 - val_loss: 0.1143 - val_accuracy: 0.9628\n",
      "Epoch 74/100\n",
      "12/12 [==============================] - 0s 3ms/step - loss: 0.0820 - accuracy: 0.9790 - val_loss: 0.1140 - val_accuracy: 0.9628\n",
      "Epoch 75/100\n",
      "12/12 [==============================] - 0s 3ms/step - loss: 0.0814 - accuracy: 0.9790 - val_loss: 0.1137 - val_accuracy: 0.9628\n",
      "Epoch 76/100\n",
      "12/12 [==============================] - 0s 3ms/step - loss: 0.0808 - accuracy: 0.9790 - val_loss: 0.1135 - val_accuracy: 0.9628\n",
      "Epoch 77/100\n",
      "12/12 [==============================] - 0s 3ms/step - loss: 0.0802 - accuracy: 0.9790 - val_loss: 0.1132 - val_accuracy: 0.9628\n",
      "Epoch 78/100\n",
      "12/12 [==============================] - 0s 3ms/step - loss: 0.0796 - accuracy: 0.9790 - val_loss: 0.1129 - val_accuracy: 0.9628\n",
      "Epoch 79/100\n",
      "12/12 [==============================] - 0s 3ms/step - loss: 0.0791 - accuracy: 0.9790 - val_loss: 0.1128 - val_accuracy: 0.9628\n",
      "Epoch 80/100\n",
      "12/12 [==============================] - 0s 3ms/step - loss: 0.0786 - accuracy: 0.9790 - val_loss: 0.1124 - val_accuracy: 0.9628\n",
      "Epoch 81/100\n",
      "12/12 [==============================] - 0s 3ms/step - loss: 0.0780 - accuracy: 0.9790 - val_loss: 0.1123 - val_accuracy: 0.9628\n",
      "Epoch 82/100\n",
      "12/12 [==============================] - 0s 3ms/step - loss: 0.0774 - accuracy: 0.9790 - val_loss: 0.1121 - val_accuracy: 0.9628\n",
      "Epoch 83/100\n",
      "12/12 [==============================] - 0s 3ms/step - loss: 0.0769 - accuracy: 0.9790 - val_loss: 0.1118 - val_accuracy: 0.9628\n",
      "Epoch 84/100\n",
      "12/12 [==============================] - 0s 3ms/step - loss: 0.0764 - accuracy: 0.9790 - val_loss: 0.1115 - val_accuracy: 0.9628\n",
      "Epoch 85/100\n",
      "12/12 [==============================] - 0s 3ms/step - loss: 0.0759 - accuracy: 0.9790 - val_loss: 0.1114 - val_accuracy: 0.9628\n",
      "Epoch 86/100\n",
      "12/12 [==============================] - 0s 3ms/step - loss: 0.0754 - accuracy: 0.9790 - val_loss: 0.1112 - val_accuracy: 0.9628\n",
      "Epoch 87/100\n",
      "12/12 [==============================] - 0s 3ms/step - loss: 0.0749 - accuracy: 0.9790 - val_loss: 0.1110 - val_accuracy: 0.9628\n",
      "Epoch 88/100\n",
      "12/12 [==============================] - 0s 3ms/step - loss: 0.0744 - accuracy: 0.9790 - val_loss: 0.1108 - val_accuracy: 0.9628\n",
      "Epoch 89/100\n",
      "12/12 [==============================] - 0s 3ms/step - loss: 0.0739 - accuracy: 0.9790 - val_loss: 0.1106 - val_accuracy: 0.9628\n",
      "Epoch 90/100\n",
      "12/12 [==============================] - 0s 3ms/step - loss: 0.0735 - accuracy: 0.9816 - val_loss: 0.1104 - val_accuracy: 0.9628\n",
      "Epoch 91/100\n",
      "12/12 [==============================] - 0s 3ms/step - loss: 0.0730 - accuracy: 0.9816 - val_loss: 0.1102 - val_accuracy: 0.9628\n",
      "Epoch 92/100\n",
      "12/12 [==============================] - 0s 3ms/step - loss: 0.0725 - accuracy: 0.9816 - val_loss: 0.1101 - val_accuracy: 0.9628\n",
      "Epoch 93/100\n",
      "12/12 [==============================] - 0s 3ms/step - loss: 0.0721 - accuracy: 0.9816 - val_loss: 0.1099 - val_accuracy: 0.9628\n",
      "Epoch 94/100\n",
      "12/12 [==============================] - 0s 3ms/step - loss: 0.0717 - accuracy: 0.9843 - val_loss: 0.1096 - val_accuracy: 0.9628\n",
      "Epoch 95/100\n",
      "12/12 [==============================] - 0s 3ms/step - loss: 0.0712 - accuracy: 0.9843 - val_loss: 0.1096 - val_accuracy: 0.9628\n",
      "Epoch 96/100\n",
      "12/12 [==============================] - 0s 3ms/step - loss: 0.0708 - accuracy: 0.9843 - val_loss: 0.1095 - val_accuracy: 0.9628\n",
      "Epoch 97/100\n",
      "12/12 [==============================] - 0s 3ms/step - loss: 0.0704 - accuracy: 0.9843 - val_loss: 0.1093 - val_accuracy: 0.9628\n",
      "Epoch 98/100\n",
      "12/12 [==============================] - 0s 3ms/step - loss: 0.0700 - accuracy: 0.9843 - val_loss: 0.1092 - val_accuracy: 0.9628\n",
      "Epoch 99/100\n",
      "12/12 [==============================] - 0s 3ms/step - loss: 0.0696 - accuracy: 0.9843 - val_loss: 0.1090 - val_accuracy: 0.9628\n",
      "Epoch 100/100\n",
      "12/12 [==============================] - 0s 3ms/step - loss: 0.0692 - accuracy: 0.9843 - val_loss: 0.1089 - val_accuracy: 0.9628\n"
     ]
    }
   ],
   "source": [
    "r = model.fit(X_train, y_train, validation_data=(X_test, y_test), epochs=100)"
   ]
  },
  {
   "cell_type": "markdown",
   "metadata": {},
   "source": [
    "## Evaluate the model - evaluate() returns loss and accuracy"
   ]
  },
  {
   "cell_type": "code",
   "execution_count": 14,
   "metadata": {},
   "outputs": [
    {
     "name": "stdout",
     "output_type": "stream",
     "text": [
      "12/12 [==============================] - 0s 855us/step - loss: 0.0690 - accuracy: 0.9843\n",
      "Train score: [0.06896613538265228, 0.9842519760131836]\n",
      "6/6 [==============================] - 0s 913us/step - loss: 0.1089 - accuracy: 0.9628\n",
      "Test score: [0.10892102867364883, 0.9627659320831299]\n"
     ]
    }
   ],
   "source": [
    "\n",
    "print(\"Train score:\", model.evaluate(X_train, y_train))\n",
    "print(\"Test score:\", model.evaluate(X_test, y_test))"
   ]
  },
  {
   "cell_type": "code",
   "execution_count": 16,
   "metadata": {
    "colab": {
     "base_uri": "https://localhost:8080/",
     "height": 282
    },
    "id": "W0fK5PQc8aJ_",
    "outputId": "952299b6-1cdc-4c3b-fc32-6d85aee14db2"
   },
   "outputs": [
    {
     "data": {
      "text/plain": [
       "<matplotlib.legend.Legend at 0x7f9af6d4c400>"
      ]
     },
     "execution_count": 16,
     "metadata": {},
     "output_type": "execute_result"
    },
    {
     "data": {
      "image/png": "[encoded data removed]",
      "text/plain": [
       "<Figure size 640x480 with 1 Axes>"
      ]
     },
     "metadata": {},
     "output_type": "display_data"
    }
   ],
   "source": [
    "plt.plot(r.history['loss'], label='loss')\n",
    "plt.plot(r.history['val_loss'], label='val_loss')\n",
    "plt.legend()"
   ]
  },
  {
   "cell_type": "markdown",
   "metadata": {},
   "source": [
    "### Plot the accuracy"
   ]
  },
  {
   "cell_type": "code",
   "execution_count": 17,
   "metadata": {
    "colab": {
     "base_uri": "https://localhost:8080/",
     "height": 285
    },
    "id": "VBAA2UY28vJN",
    "outputId": "b5908402-b0ba-4db7-e691-44294933dd19"
   },
   "outputs": [
    {
     "data": {
      "text/plain": [
       "<matplotlib.legend.Legend at 0x7f9af7112040>"
      ]
     },
     "execution_count": 17,
     "metadata": {},
     "output_type": "execute_result"
    },
    {
     "data": {
      "image/png": "[encoded data removed]",
      "text/plain": [
       "<Figure size 640x480 with 1 Axes>"
      ]
     },
     "metadata": {},
     "output_type": "display_data"
    }
   ],
   "source": [
    "\n",
    "plt.plot(r.history['accuracy'], label='acc')\n",
    "plt.plot(r.history['val_accuracy'], label='val_acc')\n",
    "plt.legend()"
   ]
  },
  {
   "cell_type": "markdown",
   "metadata": {
    "id": "GrZnHBI8NH-u"
   },
   "source": [
    "## Making Predictions\n"
   ]
  },
  {
   "cell_type": "code",
   "execution_count": 18,
   "metadata": {
    "colab": {
     "base_uri": "https://localhost:8080/",
     "height": 1000
    },
    "id": "Ss1LJwIVKREf",
    "outputId": "6d017cc8-157a-45b1-e672-c600e68d5483"
   },
   "outputs": [
    {
     "name": "stdout",
     "output_type": "stream",
     "text": [
      "6/6 [==============================] - 0s 759us/step\n",
      "[[9.9885041e-01]\n",
      " [1.2589264e-02]\n",
      " [9.9971354e-01]\n",
      " [9.0903950e-01]\n",
      " [1.5563420e-03]\n",
      " [9.9975806e-01]\n",
      " [9.9965394e-01]\n",
      " [6.6668802e-04]\n",
      " [9.9983495e-01]\n",
      " [4.2297307e-01]\n",
      " [5.3765753e-04]\n",
      " [9.9186486e-01]\n",
      " [9.9671763e-01]\n",
      " [9.9163586e-01]\n",
      " [9.9662721e-01]\n",
      " [4.6903890e-04]\n",
      " [8.5067475e-01]\n",
      " [9.9037051e-01]\n",
      " [9.9385267e-01]\n",
      " [1.0441446e-04]\n",
      " [5.2040466e-04]\n",
      " [9.6078950e-01]\n",
      " [9.9230140e-01]\n",
      " [4.4348366e-03]\n",
      " [9.9946737e-01]\n",
      " [2.5818667e-01]\n",
      " [9.9335301e-01]\n",
      " [9.9767458e-01]\n",
      " [1.5944799e-05]\n",
      " [5.9349644e-01]\n",
      " [8.2317467e-07]\n",
      " [1.6993871e-02]\n",
      " [9.9951833e-01]\n",
      " [4.1792688e-01]\n",
      " [8.3296829e-05]\n",
      " [9.9872106e-01]\n",
      " [9.8002094e-01]\n",
      " [4.3140023e-08]\n",
      " [9.8801136e-01]\n",
      " [9.9360359e-01]\n",
      " [5.2657348e-01]\n",
      " [9.8002005e-01]\n",
      " [2.7524112e-02]\n",
      " [9.9960798e-01]\n",
      " [1.3163642e-03]\n",
      " [9.0645713e-01]\n",
      " [9.9995303e-01]\n",
      " [9.7947866e-01]\n",
      " [9.9650353e-01]\n",
      " [2.7321171e-04]\n",
      " [9.9980426e-01]\n",
      " [9.7611266e-01]\n",
      " [9.9973327e-01]\n",
      " [6.6392516e-07]\n",
      " [8.8733608e-01]\n",
      " [1.5261858e-06]\n",
      " [2.0960355e-03]\n",
      " [9.2386353e-01]\n",
      " [9.6030277e-01]\n",
      " [3.3284097e-03]\n",
      " [9.7865760e-01]\n",
      " [2.4406779e-07]\n",
      " [9.8813283e-01]\n",
      " [9.9192828e-01]\n",
      " [4.7146428e-02]\n",
      " [9.8073733e-01]\n",
      " [5.1327595e-05]\n",
      " [9.9654382e-01]\n",
      " [9.9048227e-01]\n",
      " [1.7342751e-06]\n",
      " [1.7166424e-03]\n",
      " [9.9975652e-01]\n",
      " [9.9987185e-01]\n",
      " [8.7133646e-02]\n",
      " [6.1688397e-06]\n",
      " [9.9837017e-01]\n",
      " [9.3271065e-01]\n",
      " [9.9533266e-01]\n",
      " [5.9105121e-02]\n",
      " [9.3356830e-06]\n",
      " [4.6867840e-02]\n",
      " [9.9747628e-01]\n",
      " [9.9938077e-01]\n",
      " [9.4702160e-01]\n",
      " [9.9912691e-01]\n",
      " [9.9654061e-01]\n",
      " [2.5635877e-01]\n",
      " [7.9702339e-05]\n",
      " [2.8855522e-05]\n",
      " [2.2476945e-07]\n",
      " [9.9561375e-01]\n",
      " [9.9952227e-01]\n",
      " [9.1857421e-01]\n",
      " [4.5694402e-01]\n",
      " [8.8781649e-01]\n",
      " [6.9095123e-01]\n",
      " [8.7962490e-01]\n",
      " [9.9960506e-01]\n",
      " [9.9332225e-01]\n",
      " [9.9941027e-01]\n",
      " [3.5776591e-01]\n",
      " [9.9999315e-01]\n",
      " [1.3061674e-08]\n",
      " [9.9997747e-01]\n",
      " [9.7233033e-01]\n",
      " [8.9451951e-01]\n",
      " [9.6968466e-01]\n",
      " [9.9233991e-01]\n",
      " [9.9761146e-01]\n",
      " [9.9160892e-01]\n",
      " [7.4713178e-09]\n",
      " [4.3067051e-14]\n",
      " [9.9928814e-01]\n",
      " [2.5081206e-02]\n",
      " [9.3247414e-01]\n",
      " [2.4366043e-04]\n",
      " [9.9827141e-01]\n",
      " [9.9977404e-01]\n",
      " [8.9162813e-06]\n",
      " [1.2521468e-02]\n",
      " [7.9883051e-01]\n",
      " [2.0883856e-03]\n",
      " [9.8580711e-02]\n",
      " [9.9745303e-01]\n",
      " [9.8827004e-01]\n",
      " [3.2437369e-10]\n",
      " [9.9192780e-01]\n",
      " [9.9756700e-01]\n",
      " [9.9095535e-01]\n",
      " [1.3279005e-07]\n",
      " [3.9729907e-04]\n",
      " [9.6544260e-01]\n",
      " [5.8452874e-01]\n",
      " [2.7320234e-04]\n",
      " [9.9714148e-01]\n",
      " [7.0391083e-01]\n",
      " [9.9076343e-01]\n",
      " [2.5697336e-05]\n",
      " [9.9935108e-01]\n",
      " [9.7295630e-01]\n",
      " [1.6086662e-02]\n",
      " [8.4721792e-01]\n",
      " [1.7303084e-06]\n",
      " [9.7027320e-01]\n",
      " [9.9338663e-01]\n",
      " [9.9941844e-01]\n",
      " [2.2098700e-02]\n",
      " [9.9539113e-01]\n",
      " [3.8759133e-01]\n",
      " [9.9590260e-01]\n",
      " [9.9971938e-01]\n",
      " [9.9675137e-01]\n",
      " [9.9943197e-01]\n",
      " [9.8002303e-01]\n",
      " [9.2746049e-01]\n",
      " [9.8178434e-01]\n",
      " [9.5112854e-01]\n",
      " [9.7148293e-01]\n",
      " [9.8311418e-01]\n",
      " [1.2201715e-05]\n",
      " [9.9914235e-01]\n",
      " [9.7939831e-01]\n",
      " [9.6577406e-01]\n",
      " [8.8399899e-01]\n",
      " [9.9862057e-01]\n",
      " [9.6653622e-01]\n",
      " [5.4647408e-05]\n",
      " [9.8992163e-01]\n",
      " [7.5563289e-02]\n",
      " [9.6847266e-01]\n",
      " [5.7122156e-06]\n",
      " [9.9807024e-01]\n",
      " [9.9971110e-01]\n",
      " [6.6417265e-03]\n",
      " [9.9717957e-01]\n",
      " [9.9826348e-01]\n",
      " [9.9890244e-01]\n",
      " [9.8030633e-01]\n",
      " [9.9982017e-01]\n",
      " [3.0897191e-08]\n",
      " [4.3618337e-07]\n",
      " [9.9962229e-01]\n",
      " [9.9947858e-01]\n",
      " [9.9719179e-01]\n",
      " [9.9875158e-01]\n",
      " [2.8180838e-01]\n",
      " [9.9790072e-01]\n",
      " [3.2188427e-02]]\n"
     ]
    }
   ],
   "source": [
    "\n",
    "P = model.predict(X_test)\n",
    "print(P) # they are outputs of the sigmoid, interpreted as probabilities p(y = 1 | x)"
   ]
  },
  {
   "cell_type": "markdown",
   "metadata": {},
   "source": [
    "### Round to get the actual predictions. Has to be flattened since the targets are size (N,) while the predictions are size (N,1)"
   ]
  },
  {
   "cell_type": "code",
   "execution_count": 19,
   "metadata": {
    "colab": {
     "base_uri": "https://localhost:8080/",
     "height": 153
    },
    "id": "Tv0cN7J6KoVu",
    "outputId": "3bd7dae1-ac93-437c-ddcd-e51335aa3568"
   },
   "outputs": [
    {
     "name": "stdout",
     "output_type": "stream",
     "text": [
      "[1. 0. 1. 1. 0. 1. 1. 0. 1. 0. 0. 1. 1. 1. 1. 0. 1. 1. 1. 0. 0. 1. 1. 0.\n",
      " 1. 0. 1. 1. 0. 1. 0. 0. 1. 0. 0. 1. 1. 0. 1. 1. 1. 1. 0. 1. 0. 1. 1. 1.\n",
      " 1. 0. 1. 1. 1. 0. 1. 0. 0. 1. 1. 0. 1. 0. 1. 1. 0. 1. 0. 1. 1. 0. 0. 1.\n",
      " 1. 0. 0. 1. 1. 1. 0. 0. 0. 1. 1. 1. 1. 1. 0. 0. 0. 0. 1. 1. 1. 0. 1. 1.\n",
      " 1. 1. 1. 1. 0. 1. 0. 1. 1. 1. 1. 1. 1. 1. 0. 0. 1. 0. 1. 0. 1. 1. 0. 0.\n",
      " 1. 0. 0. 1. 1. 0. 1. 1. 1. 0. 0. 1. 1. 0. 1. 1. 1. 0. 1. 1. 0. 1. 0. 1.\n",
      " 1. 1. 0. 1. 0. 1. 1. 1. 1. 1. 1. 1. 1. 1. 1. 0. 1. 1. 1. 1. 1. 1. 0. 1.\n",
      " 0. 1. 0. 1. 1. 0. 1. 1. 1. 1. 1. 0. 0. 1. 1. 1. 1. 0. 1. 0.]\n"
     ]
    }
   ],
   "source": [
    "P = np.round(P).flatten()\n",
    "print(P)"
   ]
  },
  {
   "cell_type": "markdown",
   "metadata": {},
   "source": [
    "### Calculate the accuracy, compare it to evaluate() output"
   ]
  },
  {
   "cell_type": "code",
   "execution_count": 20,
   "metadata": {
    "colab": {
     "base_uri": "https://localhost:8080/",
     "height": 68
    },
    "id": "yJU09XkmK4nQ",
    "outputId": "c5bffa25-6179-412a-b7e9-fdac287f721d",
    "scrolled": true
   },
   "outputs": [
    {
     "name": "stdout",
     "output_type": "stream",
     "text": [
      "Manually calculated accuracy: 0.9627659574468085\n",
      "6/6 [==============================] - 0s 949us/step - loss: 0.1089 - accuracy: 0.9628\n",
      "Evaluate output: [0.10892102867364883, 0.9627659320831299]\n"
     ]
    }
   ],
   "source": [
    "\n",
    "print(\"Manually calculated accuracy:\", np.mean(P == y_test))\n",
    "print(\"Evaluate output:\", model.evaluate(X_test, y_test))"
   ]
  },
  {
   "cell_type": "markdown",
   "metadata": {
    "id": "iogYs0uGNS4l"
   },
   "source": [
    "### Saving and Loading a Model\n"
   ]
  },
  {
   "cell_type": "code",
   "execution_count": 21,
   "metadata": {
    "id": "L1uHxJ2SNXan"
   },
   "outputs": [],
   "source": [
    "model.save('linearclassifier.h5')"
   ]
  },
  {
   "cell_type": "code",
   "execution_count": 22,
   "metadata": {
    "colab": {
     "base_uri": "https://localhost:8080/",
     "height": 68
    },
    "id": "F6PHmjb0OFBf",
    "outputId": "291152cf-4980-414f-c320-add1c914059d"
   },
   "outputs": [
    {
     "name": "stdout",
     "output_type": "stream",
     "text": [
      "total 1888\r\n",
      "-rwxrwxrwx@ 1 rositsa  staff   127K Jan 28 18:02 \u001b[31m1. Linear_Regression_Moore's Law_Tensorflow.ipynb\u001b[m\u001b[m\r\n",
      "-rwxrwxrwx@ 1 rositsa  staff    97K Jan 28 18:06 \u001b[31m2. Linear Classification Breast Cancer Data.ipynb\u001b[m\u001b[m\r\n",
      "-rwxr--r--@ 1 rositsa  staff    15K Nov 10 11:33 \u001b[31m3. TensorFlow_MNIST.ipynb\u001b[m\u001b[m\r\n",
      "-rwxrwxrwx@ 1 rositsa  staff   213K Nov 10 10:02 \u001b[31m4. Deep Learning Backpropagation example.ipynb\u001b[m\u001b[m\r\n",
      "-rwxrwxrwx@ 1 rositsa  staff   457K Nov 10 10:19 \u001b[31m5. Build Deep Neural Network for Regression.ipynb\u001b[m\u001b[m\r\n",
      "-rw-r--r--  1 rositsa  staff    19K Jan 28 18:06 linearclassifier.h5\r\n",
      "-rwxrwxrwx  1 rositsa  staff   2.2K Jul 10  2021 \u001b[31mmoore.csv\u001b[m\u001b[m\r\n",
      "drwxr-xr-x  4 rositsa  staff   128B Jan 16 16:31 \u001b[34m~\u001b[m\u001b[m\r\n"
     ]
    }
   ],
   "source": [
    "!ls -lh "
   ]
  },
  {
   "cell_type": "markdown",
   "metadata": {},
   "source": [
    "### Load the model and confirm that it still works"
   ]
  },
  {
   "cell_type": "code",
   "execution_count": 23,
   "metadata": {
    "colab": {
     "base_uri": "https://localhost:8080/",
     "height": 68
    },
    "id": "FgFBrBveNoOR",
    "outputId": "9b295d15-0678-4b2d-8021-d3f89434b9ee"
   },
   "outputs": [
    {
     "name": "stdout",
     "output_type": "stream",
     "text": [
      "[<keras.layers.core.dense.Dense object at 0x7f9af782d790>]\n",
      "6/6 [==============================] - 0s 852us/step - loss: 0.1089 - accuracy: 0.9628\n"
     ]
    },
    {
     "data": {
      "text/plain": [
       "[0.10892102867364883, 0.9627659320831299]"
      ]
     },
     "execution_count": 23,
     "metadata": {},
     "output_type": "execute_result"
    }
   ],
   "source": [
    "model = tf.keras.models.load_model('linearclassifier.h5')\n",
    "print(model.layers)\n",
    "model.evaluate(X_test, y_test)"
   ]
  }
 ],
 "metadata": {
  "accelerator": "GPU",
  "colab": {
   "collapsed_sections": [],
   "name": "TF2.0 Linear Classification.ipynb",
   "provenance": [],
   "toc_visible": true
  },
  "kernelspec": {
   "display_name": "Python 3 (ipykernel)",
   "language": "python",
   "name": "python3"
  },
  "language_info": {
   "codemirror_mode": {
    "name": "ipython",
    "version": 3
   },
   "file_extension": ".py",
   "mimetype": "text/x-python",
   "name": "python",
   "nbconvert_exporter": "python",
   "pygments_lexer": "ipython3",
   "version": "3.9.15"
  }
 },
 "nbformat": 4,
 "nbformat_minor": 1
}
