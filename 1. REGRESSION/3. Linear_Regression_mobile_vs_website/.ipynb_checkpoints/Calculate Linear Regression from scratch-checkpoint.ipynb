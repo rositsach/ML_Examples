{
 "cells": [
  {
   "cell_type": "markdown",
   "id": "6fdb8dbc",
   "metadata": {},
   "source": [
    "<h1 align=\"center\">Linear Regression</h1>\n",
    "<h2 align=\"center\">Calculate Linear Regression from scratch</h2>\n",
    "<h3 align=\"center\">Rositsa Chankova</h3>"
   ]
  },
  {
   "cell_type": "markdown",
   "id": "b26f2658",
   "metadata": {},
   "source": [
    "## Imports"
   ]
  },
  {
   "cell_type": "code",
   "execution_count": 2,
   "id": "c518df8f",
   "metadata": {},
   "outputs": [],
   "source": [
    "import pandas as pd\n",
    "import numpy as np\n",
    "import matplotlib.pyplot as plt\n",
    "import seaborn as sns\n",
    "%matplotlib inline\n",
    "from pandas import DataFrame\n",
    "from sklearn.linear_model import LinearRegression"
   ]
  },
  {
   "cell_type": "code",
   "execution_count": 3,
   "id": "7e5c0ef8",
   "metadata": {
    "scrolled": true
   },
   "outputs": [
    {
     "name": "stdout",
     "output_type": "stream",
     "text": [
      "<class 'pandas.core.frame.DataFrame'>\n",
      "RangeIndex: 63 entries, 0 to 62\n",
      "Data columns (total 2 columns):\n",
      " #   Column  Non-Null Count  Dtype  \n",
      "---  ------  --------------  -----  \n",
      " 0   X       63 non-null     int64  \n",
      " 1   Y       63 non-null     float64\n",
      "dtypes: float64(1), int64(1)\n",
      "memory usage: 1.1 KB\n"
     ]
    }
   ],
   "source": [
    "data = pd.read_csv('swedish_insurance.csv')\n",
    "data.info()"
   ]
  },
  {
   "cell_type": "code",
   "execution_count": 4,
   "id": "e554b2c8",
   "metadata": {},
   "outputs": [
    {
     "name": "stdout",
     "output_type": "stream",
     "text": [
      "Index(['X', 'Y'], dtype='object')\n"
     ]
    },
    {
     "data": {
      "text/html": [
       "<div>\n",
       "<style scoped>\n",
       "    .dataframe tbody tr th:only-of-type {\n",
       "        vertical-align: middle;\n",
       "    }\n",
       "\n",
       "    .dataframe tbody tr th {\n",
       "        vertical-align: top;\n",
       "    }\n",
       "\n",
       "    .dataframe thead th {\n",
       "        text-align: right;\n",
       "    }\n",
       "</style>\n",
       "<table border=\"1\" class=\"dataframe\">\n",
       "  <thead>\n",
       "    <tr style=\"text-align: right;\">\n",
       "      <th></th>\n",
       "      <th>X</th>\n",
       "      <th>Y</th>\n",
       "    </tr>\n",
       "  </thead>\n",
       "  <tbody>\n",
       "    <tr>\n",
       "      <th>0</th>\n",
       "      <td>108</td>\n",
       "      <td>392.5</td>\n",
       "    </tr>\n",
       "    <tr>\n",
       "      <th>1</th>\n",
       "      <td>19</td>\n",
       "      <td>46.2</td>\n",
       "    </tr>\n",
       "    <tr>\n",
       "      <th>2</th>\n",
       "      <td>13</td>\n",
       "      <td>15.7</td>\n",
       "    </tr>\n",
       "    <tr>\n",
       "      <th>3</th>\n",
       "      <td>124</td>\n",
       "      <td>422.2</td>\n",
       "    </tr>\n",
       "    <tr>\n",
       "      <th>4</th>\n",
       "      <td>40</td>\n",
       "      <td>119.4</td>\n",
       "    </tr>\n",
       "    <tr>\n",
       "      <th>5</th>\n",
       "      <td>57</td>\n",
       "      <td>170.9</td>\n",
       "    </tr>\n",
       "    <tr>\n",
       "      <th>6</th>\n",
       "      <td>23</td>\n",
       "      <td>56.9</td>\n",
       "    </tr>\n",
       "    <tr>\n",
       "      <th>7</th>\n",
       "      <td>14</td>\n",
       "      <td>77.5</td>\n",
       "    </tr>\n",
       "    <tr>\n",
       "      <th>8</th>\n",
       "      <td>45</td>\n",
       "      <td>214.0</td>\n",
       "    </tr>\n",
       "    <tr>\n",
       "      <th>9</th>\n",
       "      <td>10</td>\n",
       "      <td>65.3</td>\n",
       "    </tr>\n",
       "  </tbody>\n",
       "</table>\n",
       "</div>"
      ],
      "text/plain": [
       "     X      Y\n",
       "0  108  392.5\n",
       "1   19   46.2\n",
       "2   13   15.7\n",
       "3  124  422.2\n",
       "4   40  119.4\n",
       "5   57  170.9\n",
       "6   23   56.9\n",
       "7   14   77.5\n",
       "8   45  214.0\n",
       "9   10   65.3"
      ]
     },
     "execution_count": 4,
     "metadata": {},
     "output_type": "execute_result"
    }
   ],
   "source": [
    "print(data.columns)\n",
    "data.head(10)"
   ]
  },
  {
   "cell_type": "code",
   "execution_count": 5,
   "id": "da4fec15",
   "metadata": {},
   "outputs": [
    {
     "data": {
      "image/png": "[encoded data removed]",
      "text/plain": [
       "<Figure size 640x480 with 1 Axes>"
      ]
     },
     "metadata": {},
     "output_type": "display_data"
    }
   ],
   "source": [
    "fig = plt.scatter(x = data['X'], y=data['Y'])\n",
    "plt.show()"
   ]
  },
  {
   "cell_type": "markdown",
   "id": "3d1cb111",
   "metadata": {},
   "source": [
    "1. Calculate Mean and Variance."
   ]
  },
  {
   "cell_type": "code",
   "execution_count": 6,
   "id": "e6d465e0",
   "metadata": {},
   "outputs": [
    {
     "name": "stdout",
     "output_type": "stream",
     "text": [
      "x stats: mean= 22.905   variance= 536.658\n",
      "y stats: mean= 98.187   variance= 7505.052\n"
     ]
    }
   ],
   "source": [
    "mean_x = np.mean(data['X'])\n",
    "mean_y = np.mean(data['Y'])\n",
    "\n",
    "var_x = np.var(data['X'])\n",
    "var_y = np.var(data['Y'])\n",
    "\n",
    "print('x stats: mean= %.3f   variance= %.3f' % (mean_x, var_x))\n",
    "print('y stats: mean= %.3f   variance= %.3f' % (mean_y, var_y))"
   ]
  },
  {
   "cell_type": "markdown",
   "id": "114a8ba1",
   "metadata": {},
   "source": [
    "2. Calculate Covariance.\n",
    "\n",
    "The covariance of two groups of numbers describes how those numbers change together. Covariance is a generalization of correlation. Correlation describes the relationship between two groups of numbers, whereas covariance can describe the relationship between two or more groups of numbers. "
   ]
  },
  {
   "cell_type": "code",
   "execution_count": 7,
   "id": "3c00cf47",
   "metadata": {},
   "outputs": [
    {
     "name": "stdout",
     "output_type": "stream",
     "text": [
      "Cov(X,Y): 1832.0543461829182\n"
     ]
    }
   ],
   "source": [
    "# Calculate covariance between x and y\n",
    "def covariance(x, y):\n",
    "    mean_x = np.mean(x)\n",
    "    mean_y = np.mean(y)\n",
    "    covar = 0.0\n",
    "    for i in range(len(x)):\n",
    "        covar += (x[i] - mean_x) * (y[i] - mean_y)\n",
    "    return covar/len(x)\n",
    "\n",
    "\n",
    "\n",
    "covar_xy = covariance(data['X'], data['Y'])\n",
    "print(f'Cov(X,Y): {covar_xy}')"
   ]
  },
  {
   "cell_type": "markdown",
   "id": "2adcb438",
   "metadata": {},
   "source": [
    "3. Estimate Coefficients (the values for two coefficients) in simple linear regression."
   ]
  },
  {
   "cell_type": "code",
   "execution_count": 8,
   "id": "2acb0253",
   "metadata": {},
   "outputs": [
    {
     "name": "stdout",
     "output_type": "stream",
     "text": [
      "Coefficents:\n",
      " b0: 19.99448575911481  b1: 3.413823560066367 \n"
     ]
    }
   ],
   "source": [
    "b1 = covar_xy / var_x\n",
    "b0 = mean_y - b1 * mean_x\n",
    "\n",
    "print(f'Coefficents:\\n b0: {b0}  b1: {b1} ')"
   ]
  },
  {
   "cell_type": "markdown",
   "id": "eb4f95b0",
   "metadata": {},
   "source": [
    "4. Make Predictions\n",
    "\n",
    "The simple linear regression model is a line defined by coefficients estimated from training data. Once the coefficients are estimated, we can use them to make predictions. The equation to make predictions with a simple linear regression model is as follows:"
   ]
  },
  {
   "cell_type": "code",
   "execution_count": 9,
   "id": "37d39006",
   "metadata": {},
   "outputs": [
    {
     "data": {
      "text/plain": [
       "array([108,  19,  13, 124,  40,  57,  23,  14,  45,  10,   5,  48,  11,\n",
       "        23,   7,   2,  24,   6,   3,  23,   6,   9,   9,   3,  29,   7,\n",
       "         4,  20,   7,   4,   0,  25,   6,   5,  22,  11,  61,  12,   4,\n",
       "        16,  13,  60,  41,  37,  55,  41,  11,  27,   8,   3,  17,  13,\n",
       "        13,  15,   8,  29,  30,  24,   9,  31,  14,  53,  26])"
      ]
     },
     "execution_count": 9,
     "metadata": {},
     "output_type": "execute_result"
    }
   ],
   "source": [
    "x = data['X'].values.copy()\n",
    "x"
   ]
  },
  {
   "cell_type": "code",
   "execution_count": 10,
   "id": "b76535fc",
   "metadata": {},
   "outputs": [
    {
     "name": "stdout",
     "output_type": "stream",
     "text": [
      "x: [108  19  13 124  40  57  23  14  45  10   5  48  11  23   7   2  24   6\n",
      "   3  23   6   9   9   3  29   7   4  20   7   4   0  25   6   5  22  11\n",
      "  61  12   4  16  13  60  41  37  55  41  11  27   8   3  17  13  13  15\n",
      "   8  29  30  24   9  31  14  53  26]\n",
      "\n",
      "\n",
      "y_hat: [388.68743025  84.8571334   64.37419204 443.30860721 156.54742816\n",
      " 214.58242868  98.51242764  67.7880156  173.61654596  54.13272136\n",
      "  37.06360356 183.85801664  57.54654492  98.51242764  43.89125068\n",
      "  26.82213288 101.9262512   40.47742712  30.23595644  98.51242764\n",
      "  40.47742712  50.7188978   50.7188978   30.23595644 118.995369\n",
      "  43.89125068  33.64978     88.27095696  43.89125068  33.64978\n",
      "  19.99448576 105.34007476  40.47742712  37.06360356  95.09860408\n",
      "  57.54654492 228.23772292  60.96036848  33.64978     74.61566272\n",
      "  64.37419204 224.82389936 159.96125172 146.30595748 207.75478156\n",
      " 159.96125172  57.54654492 112.16772188  47.30507424  30.23595644\n",
      "  78.02948628  64.37419204  64.37419204  71.20183916  47.30507424\n",
      " 118.995369   122.40919256 101.9262512   50.7188978  125.82301612\n",
      "  67.7880156  200.92713444 108.75389832]\n",
      "\n",
      "\n",
      "y: [392.5  46.2  15.7 422.2 119.4 170.9  56.9  77.5 214.   65.3  20.9 248.1\n",
      "  23.5  39.6  48.8   6.6 134.9  50.9   4.4 113.   14.8  48.7  52.1  13.2\n",
      " 103.9  77.5  11.8  98.1  27.9  38.1   0.   69.2  14.6  40.3 161.5  57.2\n",
      " 217.6  58.1  12.6  59.6  89.9 202.4 181.3 152.8 162.8  73.4  21.3  92.6\n",
      "  76.1  39.9 142.1  93.   31.9  32.1  55.6 133.3 194.5 137.9  87.4 209.8\n",
      "  95.5 244.6 187.5]\n"
     ]
    }
   ],
   "source": [
    "# Taking the values from the dataframe and sorting only X for the ease of plotting line later on\n",
    "x = data['X'].values.copy()\n",
    "# x.sort()\n",
    "print(f'x: {x}')\n",
    "\n",
    "# Predicting the new data based on calculated coeffiecents. \n",
    "y_hat = b0 + b1 * x\n",
    "print(f'\\n\\ny_hat: {y_hat}')\n",
    "\n",
    "y = data['Y'].values\n",
    "print(f'\\n\\ny: {y}')"
   ]
  },
  {
   "cell_type": "code",
   "execution_count": 11,
   "id": "8cde3c79",
   "metadata": {},
   "outputs": [
    {
     "data": {
      "image/png": "[encoded data removed]",
      "text/plain": [
       "<Figure size 640x480 with 1 Axes>"
      ]
     },
     "metadata": {},
     "output_type": "display_data"
    }
   ],
   "source": [
    "fig = plt.scatter(x = data['X'], y=data['Y'])\n",
    "plt.plot(data['X'],y_hat, linewidth=1)\n",
    "plt.show()\n"
   ]
  },
  {
   "cell_type": "markdown",
   "id": "2b531ff2",
   "metadata": {},
   "source": [
    "## Using Linear Regression Model from sklearn"
   ]
  },
  {
   "cell_type": "code",
   "execution_count": 12,
   "id": "41bd1524",
   "metadata": {
    "scrolled": true
   },
   "outputs": [
    {
     "name": "stdout",
     "output_type": "stream",
     "text": [
      "<class 'pandas.core.frame.DataFrame'>\n",
      "RangeIndex: 63 entries, 0 to 62\n",
      "Data columns (total 2 columns):\n",
      " #   Column  Non-Null Count  Dtype  \n",
      "---  ------  --------------  -----  \n",
      " 0   X       63 non-null     int64  \n",
      " 1   Y       63 non-null     float64\n",
      "dtypes: float64(1), int64(1)\n",
      "memory usage: 1.1 KB\n"
     ]
    }
   ],
   "source": [
    "data = pd.read_csv('swedish_insurance.csv')\n",
    "data.info()"
   ]
  },
  {
   "cell_type": "code",
   "execution_count": 13,
   "id": "9dc115b5",
   "metadata": {},
   "outputs": [],
   "source": [
    "X = DataFrame(data, columns=['X'])\n",
    "y = DataFrame(data, columns=['Y'])"
   ]
  },
  {
   "cell_type": "code",
   "execution_count": 14,
   "id": "d7dafdc5",
   "metadata": {},
   "outputs": [],
   "source": [
    "regression = LinearRegression()"
   ]
  },
  {
   "cell_type": "code",
   "execution_count": 15,
   "id": "ad000ffe",
   "metadata": {},
   "outputs": [
    {
     "data": {
      "text/plain": [
       "LinearRegression()"
      ]
     },
     "execution_count": 15,
     "metadata": {},
     "output_type": "execute_result"
    }
   ],
   "source": [
    "regression.fit(X, y) "
   ]
  },
  {
   "cell_type": "code",
   "execution_count": 16,
   "id": "85517d41",
   "metadata": {},
   "outputs": [
    {
     "data": {
      "image/png": "[encoded data removed]",
      "text/plain": [
       "<Figure size 1000x600 with 1 Axes>"
      ]
     },
     "metadata": {},
     "output_type": "display_data"
    }
   ],
   "source": [
    "plt.figure(figsize=(10,6))\n",
    "plt.scatter(X, y)\n",
    "plt.show()"
   ]
  },
  {
   "cell_type": "code",
   "execution_count": 17,
   "id": "b36df724",
   "metadata": {},
   "outputs": [
    {
     "data": {
      "text/plain": [
       "array([[3.41382356]])"
      ]
     },
     "execution_count": 17,
     "metadata": {},
     "output_type": "execute_result"
    }
   ],
   "source": [
    "regression.coef_"
   ]
  },
  {
   "cell_type": "code",
   "execution_count": 18,
   "id": "8ed4a961",
   "metadata": {},
   "outputs": [
    {
     "data": {
      "text/plain": [
       "array([19.99448576])"
      ]
     },
     "execution_count": 18,
     "metadata": {},
     "output_type": "execute_result"
    }
   ],
   "source": [
    "regression.intercept_"
   ]
  },
  {
   "cell_type": "code",
   "execution_count": 19,
   "id": "546d9d11",
   "metadata": {},
   "outputs": [
    {
     "data": {
      "image/png": "[encoded data removed]",
      "text/plain": [
       "<Figure size 1000x600 with 1 Axes>"
      ]
     },
     "metadata": {},
     "output_type": "display_data"
    }
   ],
   "source": [
    "plt.figure(figsize=(10,6))\n",
    "plt.scatter(X, y)\n",
    "\n",
    "# Adding the regression line here:\n",
    "plt.plot(X.values, regression.predict(X), color='red', linewidth=3)\n",
    "plt.show()"
   ]
  },
  {
   "cell_type": "code",
   "execution_count": 20,
   "id": "642a9523",
   "metadata": {},
   "outputs": [
    {
     "data": {
      "text/plain": [
       "0.8333466719794502"
      ]
     },
     "execution_count": 20,
     "metadata": {},
     "output_type": "execute_result"
    }
   ],
   "source": [
    "regression.score(X, y)"
   ]
  },
  {
   "cell_type": "code",
   "execution_count": 21,
   "id": "6a66994a",
   "metadata": {},
   "outputs": [],
   "source": [
    "customers = pd.read_csv(\"Ecommerce Customers\")"
   ]
  },
  {
   "cell_type": "code",
   "execution_count": 22,
   "id": "83c9a70f",
   "metadata": {},
   "outputs": [
    {
     "data": {
      "text/html": [
       "<div>\n",
       "<style scoped>\n",
       "    .dataframe tbody tr th:only-of-type {\n",
       "        vertical-align: middle;\n",
       "    }\n",
       "\n",
       "    .dataframe tbody tr th {\n",
       "        vertical-align: top;\n",
       "    }\n",
       "\n",
       "    .dataframe thead th {\n",
       "        text-align: right;\n",
       "    }\n",
       "</style>\n",
       "<table border=\"1\" class=\"dataframe\">\n",
       "  <thead>\n",
       "    <tr style=\"text-align: right;\">\n",
       "      <th></th>\n",
       "      <th>Address</th>\n",
       "      <th>Avatar</th>\n",
       "      <th>Avg. Session Length</th>\n",
       "      <th>Email</th>\n",
       "      <th>Length of Membership</th>\n",
       "      <th>Time on App</th>\n",
       "      <th>Time on Website</th>\n",
       "      <th>Yearly Amount Spent</th>\n",
       "    </tr>\n",
       "  </thead>\n",
       "  <tbody>\n",
       "    <tr>\n",
       "      <th>0</th>\n",
       "      <td>835 Frank Tunnel\\nWrightmouth, MI 82180-9605</td>\n",
       "      <td>Violet</td>\n",
       "      <td>34.497268</td>\n",
       "      <td>mstephenson@fernandez.com</td>\n",
       "      <td>4.082621</td>\n",
       "      <td>12.655651</td>\n",
       "      <td>39.577668</td>\n",
       "      <td>587.951054</td>\n",
       "    </tr>\n",
       "    <tr>\n",
       "      <th>1</th>\n",
       "      <td>4547 Archer Common\\nDiazchester, CA 06566-8576</td>\n",
       "      <td>DarkGreen</td>\n",
       "      <td>31.926272</td>\n",
       "      <td>hduke@hotmail.com</td>\n",
       "      <td>2.664034</td>\n",
       "      <td>11.109461</td>\n",
       "      <td>37.268959</td>\n",
       "      <td>392.204933</td>\n",
       "    </tr>\n",
       "    <tr>\n",
       "      <th>2</th>\n",
       "      <td>24645 Valerie Unions Suite 582\\nCobbborough, D...</td>\n",
       "      <td>Bisque</td>\n",
       "      <td>33.000915</td>\n",
       "      <td>pallen@yahoo.com</td>\n",
       "      <td>4.104543</td>\n",
       "      <td>11.330278</td>\n",
       "      <td>37.110597</td>\n",
       "      <td>487.547505</td>\n",
       "    </tr>\n",
       "    <tr>\n",
       "      <th>3</th>\n",
       "      <td>1414 David Throughway\\nPort Jason, OH 22070-1220</td>\n",
       "      <td>SaddleBrown</td>\n",
       "      <td>34.305557</td>\n",
       "      <td>riverarebecca@gmail.com</td>\n",
       "      <td>3.120179</td>\n",
       "      <td>13.717514</td>\n",
       "      <td>36.721283</td>\n",
       "      <td>581.852344</td>\n",
       "    </tr>\n",
       "    <tr>\n",
       "      <th>4</th>\n",
       "      <td>14023 Rodriguez Passage\\nPort Jacobville, PR 3...</td>\n",
       "      <td>MediumAquaMarine</td>\n",
       "      <td>33.330673</td>\n",
       "      <td>mstephens@davidson-herman.com</td>\n",
       "      <td>4.446308</td>\n",
       "      <td>12.795189</td>\n",
       "      <td>37.536653</td>\n",
       "      <td>599.406092</td>\n",
       "    </tr>\n",
       "    <tr>\n",
       "      <th>...</th>\n",
       "      <td>...</td>\n",
       "      <td>...</td>\n",
       "      <td>...</td>\n",
       "      <td>...</td>\n",
       "      <td>...</td>\n",
       "      <td>...</td>\n",
       "      <td>...</td>\n",
       "      <td>...</td>\n",
       "    </tr>\n",
       "    <tr>\n",
       "      <th>495</th>\n",
       "      <td>4483 Jones Motorway Suite 872\\nLake Jamiefurt,...</td>\n",
       "      <td>Tan</td>\n",
       "      <td>33.237660</td>\n",
       "      <td>lewisjessica@craig-evans.com</td>\n",
       "      <td>3.746573</td>\n",
       "      <td>13.566160</td>\n",
       "      <td>36.417985</td>\n",
       "      <td>573.847438</td>\n",
       "    </tr>\n",
       "    <tr>\n",
       "      <th>496</th>\n",
       "      <td>172 Owen Divide Suite 497\\nWest Richard, CA 19320</td>\n",
       "      <td>PaleVioletRed</td>\n",
       "      <td>34.702529</td>\n",
       "      <td>katrina56@gmail.com</td>\n",
       "      <td>3.576526</td>\n",
       "      <td>11.695736</td>\n",
       "      <td>37.190268</td>\n",
       "      <td>529.049004</td>\n",
       "    </tr>\n",
       "    <tr>\n",
       "      <th>497</th>\n",
       "      <td>0787 Andrews Ranch Apt. 633\\nSouth Chadburgh, ...</td>\n",
       "      <td>Cornsilk</td>\n",
       "      <td>32.646777</td>\n",
       "      <td>dale88@hotmail.com</td>\n",
       "      <td>4.958264</td>\n",
       "      <td>11.499409</td>\n",
       "      <td>38.332576</td>\n",
       "      <td>551.620145</td>\n",
       "    </tr>\n",
       "    <tr>\n",
       "      <th>498</th>\n",
       "      <td>680 Jennifer Lodge Apt. 808\\nBrendachester, TX...</td>\n",
       "      <td>Teal</td>\n",
       "      <td>33.322501</td>\n",
       "      <td>cwilson@hotmail.com</td>\n",
       "      <td>2.336485</td>\n",
       "      <td>12.391423</td>\n",
       "      <td>36.840086</td>\n",
       "      <td>456.469510</td>\n",
       "    </tr>\n",
       "    <tr>\n",
       "      <th>499</th>\n",
       "      <td>49791 Rachel Heights Apt. 898\\nEast Drewboroug...</td>\n",
       "      <td>DarkMagenta</td>\n",
       "      <td>33.715981</td>\n",
       "      <td>hannahwilson@davidson.com</td>\n",
       "      <td>2.735160</td>\n",
       "      <td>12.418808</td>\n",
       "      <td>35.771016</td>\n",
       "      <td>497.778642</td>\n",
       "    </tr>\n",
       "  </tbody>\n",
       "</table>\n",
       "<p>500 rows × 8 columns</p>\n",
       "</div>"
      ],
      "text/plain": [
       "                                               Address            Avatar  \\\n",
       "0         835 Frank Tunnel\\nWrightmouth, MI 82180-9605            Violet   \n",
       "1       4547 Archer Common\\nDiazchester, CA 06566-8576         DarkGreen   \n",
       "2    24645 Valerie Unions Suite 582\\nCobbborough, D...            Bisque   \n",
       "3     1414 David Throughway\\nPort Jason, OH 22070-1220       SaddleBrown   \n",
       "4    14023 Rodriguez Passage\\nPort Jacobville, PR 3...  MediumAquaMarine   \n",
       "..                                                 ...               ...   \n",
       "495  4483 Jones Motorway Suite 872\\nLake Jamiefurt,...               Tan   \n",
       "496  172 Owen Divide Suite 497\\nWest Richard, CA 19320     PaleVioletRed   \n",
       "497  0787 Andrews Ranch Apt. 633\\nSouth Chadburgh, ...          Cornsilk   \n",
       "498  680 Jennifer Lodge Apt. 808\\nBrendachester, TX...              Teal   \n",
       "499  49791 Rachel Heights Apt. 898\\nEast Drewboroug...       DarkMagenta   \n",
       "\n",
       "     Avg. Session Length                          Email  Length of Membership  \\\n",
       "0              34.497268      mstephenson@fernandez.com              4.082621   \n",
       "1              31.926272              hduke@hotmail.com              2.664034   \n",
       "2              33.000915               pallen@yahoo.com              4.104543   \n",
       "3              34.305557        riverarebecca@gmail.com              3.120179   \n",
       "4              33.330673  mstephens@davidson-herman.com              4.446308   \n",
       "..                   ...                            ...                   ...   \n",
       "495            33.237660   lewisjessica@craig-evans.com              3.746573   \n",
       "496            34.702529            katrina56@gmail.com              3.576526   \n",
       "497            32.646777             dale88@hotmail.com              4.958264   \n",
       "498            33.322501            cwilson@hotmail.com              2.336485   \n",
       "499            33.715981      hannahwilson@davidson.com              2.735160   \n",
       "\n",
       "     Time on App  Time on Website  Yearly Amount Spent  \n",
       "0      12.655651        39.577668           587.951054  \n",
       "1      11.109461        37.268959           392.204933  \n",
       "2      11.330278        37.110597           487.547505  \n",
       "3      13.717514        36.721283           581.852344  \n",
       "4      12.795189        37.536653           599.406092  \n",
       "..           ...              ...                  ...  \n",
       "495    13.566160        36.417985           573.847438  \n",
       "496    11.695736        37.190268           529.049004  \n",
       "497    11.499409        38.332576           551.620145  \n",
       "498    12.391423        36.840086           456.469510  \n",
       "499    12.418808        35.771016           497.778642  \n",
       "\n",
       "[500 rows x 8 columns]"
      ]
     },
     "execution_count": 22,
     "metadata": {},
     "output_type": "execute_result"
    }
   ],
   "source": [
    "customers = customers.reindex(sorted(customers.columns), axis=1)\n",
    "customers"
   ]
  },
  {
   "cell_type": "code",
   "execution_count": 23,
   "id": "9143724c",
   "metadata": {},
   "outputs": [
    {
     "data": {
      "text/plain": [
       "array([2.        , 2.11111111, 2.22222222, 2.33333333, 2.44444444,\n",
       "       2.55555556, 2.66666667, 2.77777778, 2.88888889, 3.        ])"
      ]
     },
     "execution_count": 23,
     "metadata": {},
     "output_type": "execute_result"
    }
   ],
   "source": [
    "a = np.linspace(2.0, 3.0, num=10)\n",
    "a"
   ]
  },
  {
   "cell_type": "code",
   "execution_count": 24,
   "id": "de4fd1ad",
   "metadata": {},
   "outputs": [
    {
     "data": {
      "text/plain": [
       "numpy.ndarray"
      ]
     },
     "execution_count": 24,
     "metadata": {},
     "output_type": "execute_result"
    }
   ],
   "source": [
    "type(a)"
   ]
  },
  {
   "cell_type": "code",
   "execution_count": 25,
   "id": "5d39c9bd",
   "metadata": {},
   "outputs": [
    {
     "data": {
      "text/plain": [
       "array([ 5.        ,  5.55555556,  6.11111111,  6.66666667,  7.22222222,\n",
       "        7.77777778,  8.33333333,  8.88888889,  9.44444444, 10.        ])"
      ]
     },
     "execution_count": 25,
     "metadata": {},
     "output_type": "execute_result"
    }
   ],
   "source": [
    "b = np.linspace(5.0, 10.0, num=10)\n",
    "b"
   ]
  },
  {
   "cell_type": "code",
   "execution_count": 26,
   "id": "1f7beee5",
   "metadata": {},
   "outputs": [
    {
     "data": {
      "image/png": "[encoded data removed]",
      "text/plain": [
       "<Figure size 1000x600 with 1 Axes>"
      ]
     },
     "metadata": {},
     "output_type": "display_data"
    }
   ],
   "source": [
    "plt.figure(figsize=(10,6))\n",
    "plt.scatter(a, b)\n",
    "plt.show()"
   ]
  },
  {
   "cell_type": "code",
   "execution_count": 27,
   "id": "5cdd9540",
   "metadata": {},
   "outputs": [],
   "source": [
    "X = a.reshape(-1,1) # this  has shape (XXX, 1) - it's 2D\n",
    "Y = b.reshape(-1,1) # this  has shape (XXX, 1) - it's 2D"
   ]
  },
  {
   "cell_type": "code",
   "execution_count": 28,
   "id": "e08bc68b",
   "metadata": {},
   "outputs": [
    {
     "data": {
      "text/plain": [
       "numpy.ndarray"
      ]
     },
     "execution_count": 28,
     "metadata": {},
     "output_type": "execute_result"
    }
   ],
   "source": [
    "type(X)"
   ]
  },
  {
   "cell_type": "code",
   "execution_count": 29,
   "id": "08990541",
   "metadata": {},
   "outputs": [],
   "source": [
    "regression = LinearRegression()"
   ]
  },
  {
   "cell_type": "code",
   "execution_count": 30,
   "id": "fe85234c",
   "metadata": {},
   "outputs": [
    {
     "data": {
      "text/plain": [
       "LinearRegression()"
      ]
     },
     "execution_count": 30,
     "metadata": {},
     "output_type": "execute_result"
    }
   ],
   "source": [
    "regression.fit(X, Y) "
   ]
  },
  {
   "cell_type": "code",
   "execution_count": 31,
   "id": "5927699d",
   "metadata": {},
   "outputs": [
    {
     "data": {
      "image/png": "[encoded data removed]",
      "text/plain": [
       "<Figure size 1000x600 with 1 Axes>"
      ]
     },
     "metadata": {},
     "output_type": "display_data"
    }
   ],
   "source": [
    "plt.figure(figsize=(10,6))\n",
    "plt.scatter(X, Y)\n",
    "\n",
    "# Adding the regression line here:\n",
    "plt.plot(X, regression.predict(X), color='red', linewidth=3)\n",
    "plt.show()"
   ]
  }
 ],
 "metadata": {
  "kernelspec": {
   "display_name": "Python 3 (ipykernel)",
   "language": "python",
   "name": "python3"
  },
  "language_info": {
   "codemirror_mode": {
    "name": "ipython",
    "version": 3
   },
   "file_extension": ".py",
   "mimetype": "text/x-python",
   "name": "python",
   "nbconvert_exporter": "python",
   "pygments_lexer": "ipython3",
   "version": "3.9.12"
  }
 },
 "nbformat": 4,
 "nbformat_minor": 5
}
